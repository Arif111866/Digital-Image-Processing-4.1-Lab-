{
  "nbformat": 4,
  "nbformat_minor": 0,
  "metadata": {
    "colab": {
      "provenance": [],
      "authorship_tag": "ABX9TyPADQnd4E6zjsJ4A4hYLFu2",
      "include_colab_link": true
    },
    "kernelspec": {
      "name": "python3",
      "display_name": "Python 3"
    },
    "language_info": {
      "name": "python"
    }
  },
  "cells": [
    {
      "cell_type": "markdown",
      "metadata": {
        "id": "view-in-github",
        "colab_type": "text"
      },
      "source": [
        "<a href=\"https://colab.research.google.com/github/Arif111866/Digital-Image-Processing-4.1-Lab-/blob/main/Question_1/CG_lab.ipynb\" target=\"_parent\"><img src=\"https://colab.research.google.com/assets/colab-badge.svg\" alt=\"Open In Colab\"/></a>"
      ]
    },
    {
      "cell_type": "code",
      "execution_count": null,
      "metadata": {
        "colab": {
          "base_uri": "https://localhost:8080/",
          "height": 356
        },
        "id": "BYQQqW22Pijd",
        "outputId": "61389712-e5aa-4267-b0b1-7da9f0583bb2"
      },
      "outputs": [
        {
          "output_type": "display_data",
          "data": {
            "text/plain": [
              "<Figure size 640x480 with 1 Axes>"
            ],
            "image/png": "[encoded data removed]"
          },
          "metadata": {}
        }
      ],
      "source": [
        "import matplotlib.pyplot as plt\n",
        "import matplotlib.patches as patches\n",
        "\n",
        "# Create a figure and axis\n",
        "fig, ax = plt.subplots()\n",
        "\n",
        "# Set the aspect ratio to 10:6 (national flag's official proportion)\n",
        "flag_width = 10\n",
        "flag_height = 6\n",
        "ax.set_xlim(0, flag_width)\n",
        "ax.set_ylim(0, flag_height)\n",
        "ax.set_aspect('equal')\n",
        "\n",
        "# Draw the green rectangle (background)\n",
        "green_rect = patches.Rectangle((0, 0), flag_width, flag_height, facecolor='#006a4e')  # Green\n",
        "ax.add_patch(green_rect)\n",
        "\n",
        "# Draw the red circle (slightly offset from center towards hoist)\n",
        "circle_diameter = 3  # approx 40% of flag height\n",
        "circle_radius = circle_diameter / 2\n",
        "circle_center_x = flag_width * 9 / 20  # 9/20 of flag's length from the hoist\n",
        "circle_center_y = flag_height / 2\n",
        "red_circle = patches.Circle((circle_center_x, circle_center_y), circle_radius, facecolor='#f42a41')  # Red\n",
        "ax.add_patch(red_circle)\n",
        "\n",
        "# Remove axes\n",
        "ax.axis('off')\n",
        "\n",
        "# Show the flag\n",
        "plt.title(\"Flag of Bangladesh\")\n",
        "plt.show()\n"
      ]
    },
    {
      "cell_type": "code",
      "source": [
        "!pip install pillow\n"
      ],
      "metadata": {
        "colab": {
          "base_uri": "https://localhost:8080/"
        },
        "id": "U08uzqt_c9XY",
        "outputId": "e71c768c-4646-41d2-e4ce-94e55a15dab5"
      },
      "execution_count": null,
      "outputs": [
        {
          "output_type": "stream",
          "name": "stdout",
          "text": [
            "Requirement already satisfied: pillow in /usr/local/lib/python3.11/dist-packages (11.2.1)\n"
          ]
        }
      ]
    },
    {
      "cell_type": "code",
      "source": [
        "import matplotlib.pyplot as plt\n",
        "from matplotlib.patches import Rectangle, Circle, Ellipse, Polygon\n",
        "\n",
        "# Create figure and axis\n",
        "fig, ax = plt.subplots()\n",
        "fig.set_size_inches(8, 6)\n",
        "\n",
        "# Rectangle\n",
        "rect = Rectangle((1, 1), 4, 2, facecolor='blue', alpha=0.5, label='Rectangle')\n",
        "ax.add_patch(rect)\n",
        "\n",
        "# Circle overlapping with rectangle\n",
        "circle = Circle((3, 2), 1.5, facecolor='red', alpha=0.5, label='Circle')\n",
        "ax.add_patch(circle)\n",
        "\n",
        "# Ellipse overlapping both\n",
        "ellipse = Ellipse((4.5, 2.5), width=3, height=1.5, facecolor='green', alpha=0.5, label='Ellipse')\n",
        "ax.add_patch(ellipse)\n",
        "\n",
        "# Triangle (polygon)\n",
        "triangle = Polygon([[2, 3.5], [4, 5], [5, 3.5]], closed=True, facecolor='orange', alpha=0.5, label='Triangle')\n",
        "ax.add_patch(triangle)\n",
        "\n",
        "# Set limits and aspect ratio\n",
        "ax.set_xlim(0, 8)\n",
        "ax.set_ylim(0, 6)\n",
        "ax.set_aspect('equal')\n",
        "ax.axis('off')\n",
        "\n",
        "# Add title\n",
        "plt.title(\"Overlapping Shapes with Transparency\")\n",
        "\n",
        "# Show plot\n",
        "plt.show()\n"
      ],
      "metadata": {
        "colab": {
          "base_uri": "https://localhost:8080/",
          "height": 521
        },
        "id": "TUAbTgou6ul1",
        "outputId": "9d9a69d9-b3d7-4a21-f6ba-1c45ed8978c2"
      },
      "execution_count": null,
      "outputs": [
        {
          "output_type": "display_data",
          "data": {
            "text/plain": [
              "<Figure size 800x600 with 1 Axes>"
            ],
            "image/png": "[encoded data removed]"
          },
          "metadata": {}
        }
      ]
    },
    {
      "cell_type": "code",
      "source": [],
      "metadata": {
        "id": "f_y_0deS66yQ"
      },
      "execution_count": null,
      "outputs": []
    },
    {
      "cell_type": "code",
      "source": [
        "from PIL import Image, ImageDraw, ImageSequence\n",
        "import math\n",
        "import random\n",
        "\n",
        "# Constants\n",
        "WIDTH, HEIGHT = 1080, 1920\n",
        "NUM_FRAMES = 60\n",
        "EARTH_RADIUS = 50\n",
        "\n",
        "# Create background with stars\n",
        "def create_background():\n",
        "    bg = Image.new(\"RGB\", (WIDTH, HEIGHT), (5, 5, 20))  # dark space\n",
        "    draw = ImageDraw.Draw(bg)\n",
        "    for _ in range(300):  # stars\n",
        "        x = random.randint(0, WIDTH)\n",
        "        y = random.randint(0, HEIGHT)\n",
        "        r = random.randint(1, 3)\n",
        "        draw.ellipse((x-r, y-r, x+r, y+r), fill=(255, 255, 255))\n",
        "    return bg\n",
        "\n",
        "# Create Earth circle\n",
        "def draw_earth(x, y):\n",
        "    img = Image.new(\"RGBA\", (WIDTH, HEIGHT), (0, 0, 0, 0))\n",
        "    draw = ImageDraw.Draw(img)\n",
        "    draw.ellipse((x - EARTH_RADIUS, y - EARTH_RADIUS,\n",
        "                  x + EARTH_RADIUS, y + EARTH_RADIUS), fill=(0, 102, 204))  # blue Earth\n",
        "    return img\n",
        "\n",
        "# Generate animation frames\n",
        "frames = []\n",
        "background = create_background()\n",
        "\n",
        "for i in range(NUM_FRAMES):\n",
        "    angle = (i / NUM_FRAMES) * 2 * math.pi\n",
        "    earth_x = WIDTH // 2 + int(300 * math.cos(angle))\n",
        "    earth_y = HEIGHT // 2 + int(200 * math.sin(angle * 1.5))\n",
        "\n",
        "    frame = background.copy()\n",
        "    earth = draw_earth(earth_x, earth_y)\n",
        "    frame.paste(earth, (0, 0), earth)\n",
        "    frames.append(frame)\n",
        "\n",
        "# Save as GIF\n",
        "frames[0].save(\"earth_galaxy.gif\", save_all=True, append_images=frames[1:],\n",
        "               duration=100, loop=0)\n"
      ],
      "metadata": {
        "id": "YwNfv-73dENo"
      },
      "execution_count": null,
      "outputs": []
    }
  ]
}